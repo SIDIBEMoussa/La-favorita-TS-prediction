{
 "cells": [
  {
   "cell_type": "code",
   "execution_count": 12,
   "metadata": {
    "_cell_guid": "b1076dfc-b9ad-4769-8c92-a6c4dae69d19",
    "_uuid": "8f2839f25d086af736a60e9eeb907d3b93b6e0e5",
    "execution": {
     "iopub.execute_input": "2022-12-05T13:02:54.898009Z",
     "iopub.status.busy": "2022-12-05T13:02:54.896843Z",
     "iopub.status.idle": "2022-12-05T13:02:54.924015Z",
     "shell.execute_reply": "2022-12-05T13:02:54.922643Z",
     "shell.execute_reply.started": "2022-12-05T13:02:54.897898Z"
    }
   },
   "outputs": [],
   "source": [
    "import numpy as np # linear algebra\n",
    "import pandas as pd # data processing, CSV file I/O (e.g. pd.read_csv)\n",
    "import os"
   ]
  },
  {
   "cell_type": "code",
   "execution_count": 13,
   "metadata": {
    "execution": {
     "iopub.execute_input": "2022-12-05T13:02:59.040192Z",
     "iopub.status.busy": "2022-12-05T13:02:59.039743Z",
     "iopub.status.idle": "2022-12-05T13:03:02.535616Z",
     "shell.execute_reply": "2022-12-05T13:03:02.534241Z",
     "shell.execute_reply.started": "2022-12-05T13:02:59.040147Z"
    }
   },
   "outputs": [],
   "source": [
    "oil_data=pd.read_csv(\"./store-sales-time-series-forecasting/oil.csv\")\n",
    "holidays_data=pd.read_csv(\"./store-sales-time-series-forecasting/holidays_events.csv\")\n",
    "stores_data=pd.read_csv(\"./store-sales-time-series-forecasting/stores.csv\")\n",
    "transactions_data=pd.read_csv(\"./store-sales-time-series-forecasting/transactions.csv\")\n",
    "train_data=pd.read_csv(\"./store-sales-time-series-forecasting/train.csv\")\n",
    "test_data=pd.read_csv(\"./store-sales-time-series-forecasting/test.csv\")\n",
    "\n",
    "oil_data[\"date\"]=pd.to_datetime(oil_data[\"date\"])\n",
    "holidays_data[\"date\"]=pd.to_datetime(holidays_data[\"date\"])\n",
    "transactions_data[\"date\"]=pd.to_datetime(transactions_data[\"date\"])\n",
    "train_data[\"date\"]=pd.to_datetime(train_data[\"date\"])\n",
    "test_data[\"date\"]=pd.to_datetime(test_data[\"date\"])"
   ]
  },
  {
   "cell_type": "code",
   "execution_count": 14,
   "metadata": {
    "execution": {
     "iopub.execute_input": "2022-12-05T12:40:39.933046Z",
     "iopub.status.busy": "2022-12-05T12:40:39.932633Z",
     "iopub.status.idle": "2022-12-05T12:40:43.691593Z",
     "shell.execute_reply": "2022-12-05T12:40:43.690078Z",
     "shell.execute_reply.started": "2022-12-05T12:40:39.933006Z"
    }
   },
   "outputs": [
    {
     "name": "stdout",
     "output_type": "stream",
     "text": [
      "transactions.csv:(83488, 3)\n",
      "sample_submission.csv:(28512, 2)\n",
      "train.csv:(3000888, 6)\n",
      "holidays_events.csv:(350, 6)\n",
      "stores.csv:(54, 5)\n",
      "oil.csv:(1218, 2)\n",
      "test.csv:(28512, 5)\n",
      "========================================\n",
      "transactions.csv:Index(['date', 'store_nbr', 'transactions'], dtype='object')\n",
      "sample_submission.csv:Index(['id', 'sales'], dtype='object')\n",
      "train.csv:Index(['id', 'date', 'store_nbr', 'family', 'sales', 'onpromotion'], dtype='object')\n",
      "holidays_events.csv:Index(['date', 'type', 'locale', 'locale_name', 'description', 'transferred'], dtype='object')\n",
      "stores.csv:Index(['store_nbr', 'city', 'state', 'type', 'cluster'], dtype='object')\n",
      "oil.csv:Index(['date', 'dcoilwtico'], dtype='object')\n",
      "test.csv:Index(['id', 'date', 'store_nbr', 'family', 'onpromotion'], dtype='object')\n"
     ]
    }
   ],
   "source": [
    "for dirname, _, filenames in os.walk('./store-sales-time-series-forecasting'):\n",
    "    for filename in filenames:\n",
    "\n",
    "        file=pd.read_csv(str(os.path.join(dirname, filename)))\n",
    "\n",
    "        print(f\"{filename}:{file.shape}\")\n",
    "print(\"==\"*20)\n",
    "for dirname, _, filenames in os.walk('./store-sales-time-series-forecasting'):\n",
    "    for filename in filenames:\n",
    "\n",
    "        file=pd.read_csv(str(os.path.join(dirname, filename)))\n",
    "\n",
    "        print(f\"{filename}:{file.columns}\")"
   ]
  },
  {
   "cell_type": "code",
   "execution_count": 15,
   "metadata": {
    "execution": {
     "iopub.execute_input": "2022-12-05T12:40:43.696449Z",
     "iopub.status.busy": "2022-12-05T12:40:43.696068Z",
     "iopub.status.idle": "2022-12-05T12:40:43.736851Z",
     "shell.execute_reply": "2022-12-05T12:40:43.735477Z",
     "shell.execute_reply.started": "2022-12-05T12:40:43.696418Z"
    }
   },
   "outputs": [
    {
     "data": {
      "text/plain": [
       "54"
      ]
     },
     "execution_count": 15,
     "metadata": {},
     "output_type": "execute_result"
    }
   ],
   "source": [
    "### We can extend the train set with these files by specifing the common column \n",
    "# [date and/or store_nbr]\n",
    "\n",
    "to_extend_files=[stores_data,holidays_data,oil_data,transactions_data]\n",
    "\n",
    "train_data['store_nbr'].nunique()"
   ]
  },
  {
   "cell_type": "code",
   "execution_count": 16,
   "metadata": {},
   "outputs": [
    {
     "data": {
      "text/plain": [
       "(1684, 1218, 312)"
      ]
     },
     "execution_count": 16,
     "metadata": {},
     "output_type": "execute_result"
    }
   ],
   "source": [
    "train_data[\"date\"].nunique(),oil_data[\"date\"].nunique(),holidays_data[\"date\"].nunique()"
   ]
  },
  {
   "cell_type": "code",
   "execution_count": 17,
   "metadata": {
    "execution": {
     "iopub.execute_input": "2022-12-05T13:03:06.490778Z",
     "iopub.status.busy": "2022-12-05T13:03:06.489574Z"
    }
   },
   "outputs": [
    {
     "name": "stdout",
     "output_type": "stream",
     "text": [
      "(3000888, 10)\n"
     ]
    }
   ],
   "source": [
    "trainset_extended=train_data.merge(stores_data,on='store_nbr', how='left')\n",
    "\n",
    "print(trainset_extended.shape)\n",
    "\n",
    "#trainset_extended=trainset_extended.merge(transactions_data, on='store_nbr', how='left')\n",
    "\n",
    "#print(trainset_extended.shape)\n",
    "\n",
    "#trainset_extended=trainset_extended.merge(holidays_data, on='date', how='left')\n",
    "\n",
    "#print(trainset_extended.shape)\n",
    "\n",
    "#trainset_extended=trainset_extended.merge(oil_data, on='date', how='left')\n",
    "\n",
    "#print(trainset_extended.shape)"
   ]
  },
  {
   "cell_type": "code",
   "execution_count": 18,
   "metadata": {},
   "outputs": [
    {
     "data": {
      "text/plain": [
       "0"
      ]
     },
     "execution_count": 18,
     "metadata": {},
     "output_type": "execute_result"
    }
   ],
   "source": [
    "oil_data[\"date\"].duplicated().sum()"
   ]
  },
  {
   "cell_type": "code",
   "execution_count": 21,
   "metadata": {},
   "outputs": [
    {
     "data": {
      "text/plain": [
       "(1218, 2)"
      ]
     },
     "execution_count": 21,
     "metadata": {},
     "output_type": "execute_result"
    }
   ],
   "source": [
    "oil_data.shape"
   ]
  },
  {
   "cell_type": "code",
   "execution_count": null,
   "metadata": {},
   "outputs": [],
   "source": []
  },
  {
   "cell_type": "code",
   "execution_count": null,
   "metadata": {},
   "outputs": [],
   "source": [
    "temp_date=[]\n",
    "\n",
    "temp_dcoilwtico=[]\n",
    "\n",
    "for i,date_train in enumerate(train_data[\"date\"]):\n",
    "    \n",
    "    temp_data=oil_data[oil_data[\"date\"]==date_train]\n",
    "    \n",
    "    if temp_data.shape[0]==0:\n",
    "        \n",
    "        temp_date.append(date_train)\n",
    "        \n",
    "        temp_dcoilwtico.append(np.nan)        \n",
    "    \n",
    "    elif temp_data.shape[0]==1:\n",
    "        \n",
    "        temp_date.append(temp_data[\"date\"])\n",
    "        temp_dcoilwtico.append(temp_data[\"dcoilwtico\"])\n",
    "        \n",
    "    else:\n",
    "        \n",
    "        print(f\"dupplication at {date_train} row\")\n",
    "        \n",
    "        break\n",
    "    "
   ]
  },
  {
   "cell_type": "code",
   "execution_count": null,
   "metadata": {},
   "outputs": [],
   "source": [
    "len(temp_date)"
   ]
  },
  {
   "cell_type": "code",
   "execution_count": 23,
   "metadata": {},
   "outputs": [],
   "source": [
    "temp_data=oil_data[oil_data[\"date\"]==date_train]"
   ]
  },
  {
   "cell_type": "code",
   "execution_count": 27,
   "metadata": {},
   "outputs": [
    {
     "data": {
      "text/plain": [
       "(0, 2)"
      ]
     },
     "execution_count": 27,
     "metadata": {},
     "output_type": "execute_result"
    }
   ],
   "source": [
    "temp_data.shape"
   ]
  },
  {
   "cell_type": "code",
   "execution_count": null,
   "metadata": {},
   "outputs": [],
   "source": []
  }
 ],
 "metadata": {
  "kernelspec": {
   "display_name": "Python 3 (ipykernel)",
   "language": "python",
   "name": "python3"
  },
  "language_info": {
   "codemirror_mode": {
    "name": "ipython",
    "version": 3
   },
   "file_extension": ".py",
   "mimetype": "text/x-python",
   "name": "python",
   "nbconvert_exporter": "python",
   "pygments_lexer": "ipython3",
   "version": "3.10.6"
  }
 },
 "nbformat": 4,
 "nbformat_minor": 4
}
